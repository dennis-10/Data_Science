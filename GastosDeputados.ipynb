{
  "nbformat": 4,
  "nbformat_minor": 0,
  "metadata": {
    "colab": {
      "name": "GastosDeputados.ipynb",
      "provenance": [],
      "collapsed_sections": [],
      "authorship_tag": "ABX9TyOrMrnoqvWLBxtFy657ArxP",
      "include_colab_link": true
    },
    "kernelspec": {
      "name": "python3",
      "display_name": "Python 3"
    }
  },
  "cells": [
    {
      "cell_type": "markdown",
      "metadata": {
        "id": "view-in-github",
        "colab_type": "text"
      },
      "source": [
        "<a href=\"https://colab.research.google.com/github/dennissrn/Data_Science/blob/master/GastosDeputados.ipynb\" target=\"_parent\"><img src=\"https://colab.research.google.com/assets/colab-badge.svg\" alt=\"Open In Colab\"/></a>"
      ]
    },
    {
      "cell_type": "markdown",
      "metadata": {
        "id": "26VzKya4ZxCv",
        "colab_type": "text"
      },
      "source": [
        "\n",
        "# Análise dos dados da Câmara dos Deputados\n",
        "\n",
        "\n",
        "![texto alternativo](https://cdn.domtotal.com/img/noticias/2020-01/1419361_434615.jpg)"
      ]
    },
    {
      "cell_type": "code",
      "metadata": {
        "id": "V0CTZjvXUYMZ",
        "colab_type": "code",
        "colab": {}
      },
      "source": [
        "import pandas as pd\n",
        "deputados = pd.read_csv(\"Ano-2020.csv\",sep = \";\", encoding='UTF-8')"
      ],
      "execution_count": null,
      "outputs": []
    },
    {
      "cell_type": "code",
      "metadata": {
        "id": "QLV6TDw6c_SX",
        "colab_type": "code",
        "colab": {
          "base_uri": "https://localhost:8080/",
          "height": 34
        },
        "outputId": "b9dd54c2-dcac-442e-8a34-2f90525d2666"
      },
      "source": [
        "# It's 68876 rows and 31 columns\n",
        "deputados.shape"
      ],
      "execution_count": null,
      "outputs": [
        {
          "output_type": "execute_result",
          "data": {
            "text/plain": [
              "(68876, 31)"
            ]
          },
          "metadata": {
            "tags": []
          },
          "execution_count": 8
        }
      ]
    },
    {
      "cell_type": "code",
      "metadata": {
        "id": "_XUfQSdsYSyW",
        "colab_type": "code",
        "colab": {
          "base_uri": "https://localhost:8080/",
          "height": 428
        },
        "outputId": "a655f842-780c-4cc2-856e-6072f2c2e430"
      },
      "source": [
        "# Visualize 5 first rows\n",
        "deputados.head()"
      ],
      "execution_count": null,
      "outputs": [
        {
          "output_type": "execute_result",
          "data": {
            "text/html": [
              "<div>\n",
              "<style scoped>\n",
              "    .dataframe tbody tr th:only-of-type {\n",
              "        vertical-align: middle;\n",
              "    }\n",
              "\n",
              "    .dataframe tbody tr th {\n",
              "        vertical-align: top;\n",
              "    }\n",
              "\n",
              "    .dataframe thead th {\n",
              "        text-align: right;\n",
              "    }\n",
              "</style>\n",
              "<table border=\"1\" class=\"dataframe\">\n",
              "  <thead>\n",
              "    <tr style=\"text-align: right;\">\n",
              "      <th></th>\n",
              "      <th>txNomeParlamentar</th>\n",
              "      <th>cpf</th>\n",
              "      <th>ideCadastro</th>\n",
              "      <th>nuCarteiraParlamentar</th>\n",
              "      <th>nuLegislatura</th>\n",
              "      <th>sgUF</th>\n",
              "      <th>sgPartido</th>\n",
              "      <th>codLegislatura</th>\n",
              "      <th>numSubCota</th>\n",
              "      <th>txtDescricao</th>\n",
              "      <th>numEspecificacaoSubCota</th>\n",
              "      <th>txtDescricaoEspecificacao</th>\n",
              "      <th>txtFornecedor</th>\n",
              "      <th>txtCNPJCPF</th>\n",
              "      <th>txtNumero</th>\n",
              "      <th>indTipoDocumento</th>\n",
              "      <th>datEmissao</th>\n",
              "      <th>vlrDocumento</th>\n",
              "      <th>vlrGlosa</th>\n",
              "      <th>vlrLiquido</th>\n",
              "      <th>numMes</th>\n",
              "      <th>numAno</th>\n",
              "      <th>numParcela</th>\n",
              "      <th>txtPassageiro</th>\n",
              "      <th>txtTrecho</th>\n",
              "      <th>numLote</th>\n",
              "      <th>numRessarcimento</th>\n",
              "      <th>vlrRestituicao</th>\n",
              "      <th>nuDeputadoId</th>\n",
              "      <th>ideDocumento</th>\n",
              "      <th>urlDocumento</th>\n",
              "    </tr>\n",
              "  </thead>\n",
              "  <tbody>\n",
              "    <tr>\n",
              "      <th>0</th>\n",
              "      <td>DEM</td>\n",
              "      <td>NaN</td>\n",
              "      <td>NaN</td>\n",
              "      <td>NaN</td>\n",
              "      <td>2019</td>\n",
              "      <td>NaN</td>\n",
              "      <td>NaN</td>\n",
              "      <td>56</td>\n",
              "      <td>4</td>\n",
              "      <td>CONSULTORIAS, PESQUISAS E TRABALHOS TÉCNICOS.</td>\n",
              "      <td>0</td>\n",
              "      <td>NaN</td>\n",
              "      <td>LINEAR COMUNICACAO LTDA - EPP</td>\n",
              "      <td>109.472.430/0019-5</td>\n",
              "      <td>2737</td>\n",
              "      <td>4</td>\n",
              "      <td>2020-04-27T00:00:00</td>\n",
              "      <td>1527.28</td>\n",
              "      <td>0.0</td>\n",
              "      <td>1527.28</td>\n",
              "      <td>4</td>\n",
              "      <td>2020</td>\n",
              "      <td>0</td>\n",
              "      <td>NaN</td>\n",
              "      <td>NaN</td>\n",
              "      <td>1693866</td>\n",
              "      <td>NaN</td>\n",
              "      <td>NaN</td>\n",
              "      <td>2713</td>\n",
              "      <td>7050172</td>\n",
              "      <td>http://camara.leg.br/cota-parlamentar/nota-fis...</td>\n",
              "    </tr>\n",
              "    <tr>\n",
              "      <th>1</th>\n",
              "      <td>DEM</td>\n",
              "      <td>NaN</td>\n",
              "      <td>NaN</td>\n",
              "      <td>NaN</td>\n",
              "      <td>2019</td>\n",
              "      <td>NaN</td>\n",
              "      <td>NaN</td>\n",
              "      <td>56</td>\n",
              "      <td>4</td>\n",
              "      <td>CONSULTORIAS, PESQUISAS E TRABALHOS TÉCNICOS.</td>\n",
              "      <td>0</td>\n",
              "      <td>NaN</td>\n",
              "      <td>LINEAR COMUNICACAO LTDA - EPP</td>\n",
              "      <td>109.472.430/0019-5</td>\n",
              "      <td>2764</td>\n",
              "      <td>4</td>\n",
              "      <td>2020-05-27T00:00:00</td>\n",
              "      <td>1527.28</td>\n",
              "      <td>0.0</td>\n",
              "      <td>1527.28</td>\n",
              "      <td>5</td>\n",
              "      <td>2020</td>\n",
              "      <td>0</td>\n",
              "      <td>NaN</td>\n",
              "      <td>NaN</td>\n",
              "      <td>1698547</td>\n",
              "      <td>NaN</td>\n",
              "      <td>NaN</td>\n",
              "      <td>2713</td>\n",
              "      <td>7058437</td>\n",
              "      <td>http://camara.leg.br/cota-parlamentar/nota-fis...</td>\n",
              "    </tr>\n",
              "    <tr>\n",
              "      <th>2</th>\n",
              "      <td>DEM</td>\n",
              "      <td>NaN</td>\n",
              "      <td>NaN</td>\n",
              "      <td>NaN</td>\n",
              "      <td>2019</td>\n",
              "      <td>NaN</td>\n",
              "      <td>NaN</td>\n",
              "      <td>56</td>\n",
              "      <td>4</td>\n",
              "      <td>CONSULTORIAS, PESQUISAS E TRABALHOS TÉCNICOS.</td>\n",
              "      <td>0</td>\n",
              "      <td>NaN</td>\n",
              "      <td>LINEAR COMUNICACAO LTDA - EPP</td>\n",
              "      <td>109.472.430/0019-5</td>\n",
              "      <td>2809</td>\n",
              "      <td>4</td>\n",
              "      <td>2020-07-27T00:00:00</td>\n",
              "      <td>1527.28</td>\n",
              "      <td>0.0</td>\n",
              "      <td>1527.28</td>\n",
              "      <td>7</td>\n",
              "      <td>2020</td>\n",
              "      <td>0</td>\n",
              "      <td>NaN</td>\n",
              "      <td>NaN</td>\n",
              "      <td>1709149</td>\n",
              "      <td>NaN</td>\n",
              "      <td>NaN</td>\n",
              "      <td>2713</td>\n",
              "      <td>7078508</td>\n",
              "      <td>http://camara.leg.br/cota-parlamentar/nota-fis...</td>\n",
              "    </tr>\n",
              "    <tr>\n",
              "      <th>3</th>\n",
              "      <td>DEM</td>\n",
              "      <td>NaN</td>\n",
              "      <td>NaN</td>\n",
              "      <td>NaN</td>\n",
              "      <td>2019</td>\n",
              "      <td>NaN</td>\n",
              "      <td>NaN</td>\n",
              "      <td>56</td>\n",
              "      <td>5</td>\n",
              "      <td>DIVULGAÇÃO DA ATIVIDADE PARLAMENTAR.</td>\n",
              "      <td>0</td>\n",
              "      <td>NaN</td>\n",
              "      <td>LINEAR COMUNICACAO LTDA - EPP</td>\n",
              "      <td>109.472.430/0019-5</td>\n",
              "      <td>2786</td>\n",
              "      <td>4</td>\n",
              "      <td>2020-06-26T00:00:00</td>\n",
              "      <td>1527.28</td>\n",
              "      <td>0.0</td>\n",
              "      <td>1527.28</td>\n",
              "      <td>6</td>\n",
              "      <td>2020</td>\n",
              "      <td>0</td>\n",
              "      <td>NaN</td>\n",
              "      <td>NaN</td>\n",
              "      <td>1703569</td>\n",
              "      <td>NaN</td>\n",
              "      <td>NaN</td>\n",
              "      <td>2713</td>\n",
              "      <td>7067718</td>\n",
              "      <td>http://camara.leg.br/cota-parlamentar/nota-fis...</td>\n",
              "    </tr>\n",
              "    <tr>\n",
              "      <th>4</th>\n",
              "      <td>DEM</td>\n",
              "      <td>NaN</td>\n",
              "      <td>NaN</td>\n",
              "      <td>NaN</td>\n",
              "      <td>2019</td>\n",
              "      <td>NaN</td>\n",
              "      <td>NaN</td>\n",
              "      <td>56</td>\n",
              "      <td>12</td>\n",
              "      <td>ASSINATURA DE PUBLICAÇÕES</td>\n",
              "      <td>0</td>\n",
              "      <td>NaN</td>\n",
              "      <td>DIGITAL RIVER IRELAND, LTD.</td>\n",
              "      <td>000.000.000/0001-0</td>\n",
              "      <td>45375674408</td>\n",
              "      <td>1</td>\n",
              "      <td>2020-02-19T00:00:00</td>\n",
              "      <td>613.61</td>\n",
              "      <td>0.0</td>\n",
              "      <td>613.61</td>\n",
              "      <td>2</td>\n",
              "      <td>2020</td>\n",
              "      <td>0</td>\n",
              "      <td>NaN</td>\n",
              "      <td>NaN</td>\n",
              "      <td>1692485</td>\n",
              "      <td>NaN</td>\n",
              "      <td>NaN</td>\n",
              "      <td>2713</td>\n",
              "      <td>7047615</td>\n",
              "      <td>NaN</td>\n",
              "    </tr>\n",
              "  </tbody>\n",
              "</table>\n",
              "</div>"
            ],
            "text/plain": [
              "  txNomeParlamentar  ...                                       urlDocumento\n",
              "0               DEM  ...  http://camara.leg.br/cota-parlamentar/nota-fis...\n",
              "1               DEM  ...  http://camara.leg.br/cota-parlamentar/nota-fis...\n",
              "2               DEM  ...  http://camara.leg.br/cota-parlamentar/nota-fis...\n",
              "3               DEM  ...  http://camara.leg.br/cota-parlamentar/nota-fis...\n",
              "4               DEM  ...                                                NaN\n",
              "\n",
              "[5 rows x 31 columns]"
            ]
          },
          "metadata": {
            "tags": []
          },
          "execution_count": 7
        }
      ]
    },
    {
      "cell_type": "code",
      "metadata": {
        "id": "be-pvq1tax_Y",
        "colab_type": "code",
        "colab": {
          "base_uri": "https://localhost:8080/",
          "height": 170
        },
        "outputId": "62bd6bd4-040a-4fa6-85e1-b689026f93d8"
      },
      "source": [
        "# See columns\n",
        "deputados.columns"
      ],
      "execution_count": null,
      "outputs": [
        {
          "output_type": "execute_result",
          "data": {
            "text/plain": [
              "Index(['txNomeParlamentar', 'cpf', 'ideCadastro', 'nuCarteiraParlamentar',\n",
              "       'nuLegislatura', 'sgUF', 'sgPartido', 'codLegislatura', 'numSubCota',\n",
              "       'txtDescricao', 'numEspecificacaoSubCota', 'txtDescricaoEspecificacao',\n",
              "       'txtFornecedor', 'txtCNPJCPF', 'txtNumero', 'indTipoDocumento',\n",
              "       'datEmissao', 'vlrDocumento', 'vlrGlosa', 'vlrLiquido', 'numMes',\n",
              "       'numAno', 'numParcela', 'txtPassageiro', 'txtTrecho', 'numLote',\n",
              "       'numRessarcimento', 'vlrRestituicao', 'nuDeputadoId', 'ideDocumento',\n",
              "       'urlDocumento'],\n",
              "      dtype='object')"
            ]
          },
          "metadata": {
            "tags": []
          },
          "execution_count": 9
        }
      ]
    },
    {
      "cell_type": "code",
      "metadata": {
        "id": "uCkHeC64dE-0",
        "colab_type": "code",
        "colab": {
          "base_uri": "https://localhost:8080/",
          "height": 238
        },
        "outputId": "58583252-879f-47cf-ca5c-917e8edefdf2"
      },
      "source": [
        "# Show how many rows by group\n",
        "deputados.groupby('txNomeParlamentar').size()"
      ],
      "execution_count": null,
      "outputs": [
        {
          "output_type": "execute_result",
          "data": {
            "text/plain": [
              "txNomeParlamentar\n",
              "AJ Albuquerque     85\n",
              "Abou Anni         287\n",
              "Abílio Santana    179\n",
              "Acácio Favacho     90\n",
              "Adolfo Viana       74\n",
              "                 ... \n",
              "Zé Silva          185\n",
              "Zé Vitor          188\n",
              "Átila Lins         43\n",
              "Átila Lira         37\n",
              "Áurea Carolina     99\n",
              "Length: 543, dtype: int64"
            ]
          },
          "metadata": {
            "tags": []
          },
          "execution_count": 10
        }
      ]
    },
    {
      "cell_type": "code",
      "metadata": {
        "id": "gk6JSRoTknTE",
        "colab_type": "code",
        "colab": {}
      },
      "source": [
        ""
      ],
      "execution_count": null,
      "outputs": []
    }
  ]
}